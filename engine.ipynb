{
 "cells": [
  {
   "cell_type": "code",
   "execution_count": null,
   "metadata": {},
   "outputs": [],
   "source": [
    "import pandas as pd\n",
    "import numpy as np \n",
    "import csv \n",
    "import os\n",
    "from sklearn.model_selection import train_test_split, cross_val_score\n",
    "from sklearn.preprocessing import StandardScaler, MinMaxScaler\n",
    "from sklearn.decomposition import PCA\n",
    "from sklearn.impute import KNNImputer\n",
    "from sklearn.ensemble import RandomForestClassifier\n",
    "from sklearn.metrics import accuracy_score, classification_report"
   ]
  },
  {
   "cell_type": "code",
   "execution_count": null,
   "metadata": {},
   "outputs": [],
   "source": [
    "# Define a function to parse the rows, ignoring the number after the team name\n",
    "def parse_row(row):\n",
    "    # Split the row by tabs since it is a tab-delimited file\n",
    "    data = row.strip().split(\"\\t\")\n",
    "    \n",
    "    # Extracting the rank and removing the number after the team name\n",
    "    rank = data[0]\n",
    "    team = ' '.join(data[1].split()[:-1])  # Remove the number after the team name\n",
    "    # Continue extracting other pieces of data\n",
    "    conf = data[2]\n",
    "    w_l = data[3]\n",
    "    wins = int(w_l.split('-')[0])\n",
    "    losses = int(w_l.split('-')[1])\n",
    "    WP = 0\n",
    "    if(losses == 0):\n",
    "        WP = 100\n",
    "    else: \n",
    "        WP = wins/(wins+losses)\n",
    "    adjem = data[4]\n",
    "    adjo = data[5]\n",
    "    adjd = data[6]\n",
    "    adjt = data[7]\n",
    "    luck = data[8]\n",
    "    adjem_rank = data[9]\n",
    "    oppo = data[10]\n",
    "    oppd = data[11]\n",
    "    adjem2 = data[12]\n",
    "    \n",
    "    return {\n",
    "        'Rank': rank,\n",
    "        'Team': team,\n",
    "        'Conference': conf,\n",
    "        'Wins': wins,\n",
    "        'Losses':losses,\n",
    "        'Win%':WP,\n",
    "        'AdjEM': adjem,\n",
    "        'Offensive Effeciency': adjo,\n",
    "        'Defensive Effeciency': adjd,\n",
    "        'Tempo': adjt,\n",
    "        'Luck': luck,\n",
    "        'Schedule Strength': adjem_rank,\n",
    "        'Opponent Offensive Effeciency': oppo,\n",
    "        'Opponent Defensive Effeciency': oppd,\n",
    "        'Non Confrence Schedule Strength': adjem2\n",
    "    } \n"
   ]
  },
  {
   "cell_type": "code",
   "execution_count": null,
   "metadata": {},
   "outputs": [],
   "source": [
    "def read_file(filename):\n",
    "    with open(filename) as f:\n",
    "        raw_lines = f.readlines()\n",
    "        parsed_data = [parse_row(row) for row in raw_lines[1:]]\n",
    "        parsed_df = pd.DataFrame(parsed_data)\n",
    "        return parsed_df"
   ]
  },
  {
   "cell_type": "code",
   "execution_count": null,
   "metadata": {},
   "outputs": [],
   "source": [
    "data19 = read_file('data19.txt')\n",
    "data20 = read_file('data20.txt')\n",
    "data21 = read_file('data21.txt')\n",
    "data22 = read_file('data22.txt')\n",
    "data23 = read_file('data23.txt')\n",
    "data19['Year'] = 2019\n",
    "data20['Year'] = 2020\n",
    "data21['Year'] = 2021\n",
    "data22['Year'] = 2022\n",
    "data23['Year'] = 2023\n",
    "data19 = data19.rename(columns={\"W-L\": \"W-L(19)\", \"wins\": \"W19\",\"losses\":\"L19\",\"WP\":\"WP19\"})\n",
    "data20 = data20.rename(columns={\"W-L\": \"W-L(20)\", \"wins\": \"W20\",\"losses\":\"L20\",\"WP\":\"WP20\"})\n",
    "data21 = data21.rename(columns={\"W-L\": \"W-L(21)\", \"wins\": \"W21\",\"losses\":\"L21\",\"WP\":\"WP21\"})\n",
    "data22 = data22.rename(columns={\"W-L\": \"W-L(22)\", \"wins\": \"W22\",\"losses\":\"L22\",\"WP\":\"WP22\"})\n",
    "data23 = data23.rename(columns={\"W-L\": \"W-L(23)\", \"wins\": \"W23\",\"losses\":\"L23\",\"WP\":\"WP23\"})\n",
    "combined = pd.concat([data19,data20,data21,data22,data23],ignore_index=True)\n",
    "numeric_columns = ['Rank','AdjEM','Offensive Effeciency','Defensive Effeciency','Tempo','Luck','Schedule Strength','Opponent Offensive Effeciency','Opponent Defensive Effeciency','Non Confrence Schedule Strength']\n",
    "for i in numeric_columns: \n",
    "    combined[i] = pd.to_numeric(combined[i],errors='coerce')\n",
    "combined['Team'] = combined['Team'].astype(str)\n",
    "combined['Year'] = combined['Year'].astype(int)\n",
    "imputer = KNNImputer(n_neighbors=5)\n",
    "combined[numeric_columns] = imputer.fit_transform(combined[numeric_columns])\n"
   ]
  },
  {
   "cell_type": "code",
   "execution_count": 152,
   "metadata": {},
   "outputs": [],
   "source": [
    "base_weights = [0.4, 0.3, 0.15, 0.1, 0.05]  # The weights for the 5 most recent years\n",
    "\n",
    "team_weighted_win = {}\n"
   ]
  }
 ],
 "metadata": {
  "kernelspec": {
   "display_name": "Python 3",
   "language": "python",
   "name": "python3"
  },
  "language_info": {
   "codemirror_mode": {
    "name": "ipython",
    "version": 3
   },
   "file_extension": ".py",
   "mimetype": "text/x-python",
   "name": "python",
   "nbconvert_exporter": "python",
   "pygments_lexer": "ipython3",
   "version": "3.12.1"
  }
 },
 "nbformat": 4,
 "nbformat_minor": 2
}
